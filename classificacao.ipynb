{
 "cells": [
  {
   "cell_type": "code",
   "execution_count": 46,
   "metadata": {},
   "outputs": [],
   "source": [
    "import pandas as pd\n",
    "import pickle\n",
    "\n",
    "from classes.model_factory import ModelFactory\n",
    "\n",
    "from sklearn.model_selection import train_test_split\n",
    "\n",
    "from sklearn.linear_model import LogisticRegression\n",
    "from sklearn.ensemble import RandomForestClassifier\n",
    "from sklearn.svm import SVC, LinearSVC\n",
    "from sklearn.naive_bayes import GaussianNB\n",
    "from sklearn.neighbors import KNeighborsClassifier\n"
   ]
  },
  {
   "cell_type": "markdown",
   "metadata": {},
   "source": [
    "## Treinamento classificação\n",
    "\n",
    "Para a predição de falhas com 20 ciclos de antecedência, temos o seguinte cenário:\n",
    "* <b>7.457</b> exemplos de máquinas que não irão falhar nos próxios 20 ciclos\n",
    "* <b>796</b> exemplos que irão falhar\n",
    "* <b>0</b> (negativo): label que representa a <b>não falha</b> nos próximos 20 ciclos\n",
    "* <b>1</b> (positivo): label que representa <b>uma falha</b> nos próximos 20 ciclos\n",
    "* Verdadeiro positivo <b>(VP)</b>: Modelo previu que a máquina iria falhar e acertou\n",
    "* Falso positivo <b>(FP)</b>: Modelo não previu que máquina iria falhar porém falhou\n",
    "* Verdadeiro negativo <b>(VN)</b>: Modelo previu que a máquina não iria falhar e não falhou\n",
    "* Falso negativo <b>(FN)</b>: Modelo previu que a máquina iria falhar porém ela não falhou\n",
    "\n",
    "#### - Nesse contexto de negócio os <b>FPs</b> (não previu a falha) são os mais críticos, pois implica no custo de parar a linha de produção.\n",
    "#### - Os <b>FNs</b> (troca desnecessária de máquina) são os segundo mais críticos, pois implica o custo de substituir uma máquina com o tempo de uso maior que 20 ciclos\n",
    "\n",
    "#### - Dito isso, esses são os principais pontos que irei observar para selecionar o melhor modelo"
   ]
  },
  {
   "cell_type": "markdown",
   "metadata": {},
   "source": [
    " "
   ]
  },
  {
   "cell_type": "markdown",
   "metadata": {},
   "source": [
    " "
   ]
  },
  {
   "cell_type": "markdown",
   "metadata": {},
   "source": [
    " "
   ]
  },
  {
   "cell_type": "code",
   "execution_count": 47,
   "metadata": {},
   "outputs": [],
   "source": [
    "with open(\"data/df_test.pkl\", \"rb\") as p:\n",
    "    df_test = pickle.load(p)"
   ]
  },
  {
   "cell_type": "code",
   "execution_count": 48,
   "metadata": {},
   "outputs": [],
   "source": [
    "with open(\"data/df_train.pkl\", \"rb\") as p:\n",
    "    df_train = pickle.load(p)"
   ]
  },
  {
   "cell_type": "code",
   "execution_count": 49,
   "metadata": {},
   "outputs": [
    {
     "data": {
      "text/html": [
       "<div>\n",
       "<style scoped>\n",
       "    .dataframe tbody tr th:only-of-type {\n",
       "        vertical-align: middle;\n",
       "    }\n",
       "\n",
       "    .dataframe tbody tr th {\n",
       "        vertical-align: top;\n",
       "    }\n",
       "\n",
       "    .dataframe thead th {\n",
       "        text-align: right;\n",
       "    }\n",
       "</style>\n",
       "<table border=\"1\" class=\"dataframe\">\n",
       "  <thead>\n",
       "    <tr style=\"text-align: right;\">\n",
       "      <th></th>\n",
       "      <th>asset_id</th>\n",
       "      <th>runtime</th>\n",
       "      <th>engine1</th>\n",
       "      <th>engine2</th>\n",
       "      <th>engine3</th>\n",
       "      <th>t1</th>\n",
       "      <th>t2</th>\n",
       "      <th>t3</th>\n",
       "      <th>t4</th>\n",
       "      <th>t5</th>\n",
       "      <th>...</th>\n",
       "      <th>sd14</th>\n",
       "      <th>sd15</th>\n",
       "      <th>sd16</th>\n",
       "      <th>sd17</th>\n",
       "      <th>sd18</th>\n",
       "      <th>sd19</th>\n",
       "      <th>sd20</th>\n",
       "      <th>sd21</th>\n",
       "      <th>rul</th>\n",
       "      <th>failure_label</th>\n",
       "    </tr>\n",
       "  </thead>\n",
       "  <tbody>\n",
       "    <tr>\n",
       "      <td>0</td>\n",
       "      <td>1</td>\n",
       "      <td>1</td>\n",
       "      <td>-0.0007</td>\n",
       "      <td>-0.0004</td>\n",
       "      <td>100.0</td>\n",
       "      <td>518.67</td>\n",
       "      <td>641.82</td>\n",
       "      <td>1589.70</td>\n",
       "      <td>1400.60</td>\n",
       "      <td>14.62</td>\n",
       "      <td>...</td>\n",
       "      <td>0.000000</td>\n",
       "      <td>0.000000</td>\n",
       "      <td>0.0</td>\n",
       "      <td>0.000000</td>\n",
       "      <td>0.0</td>\n",
       "      <td>0.0</td>\n",
       "      <td>0.000000</td>\n",
       "      <td>0.000000</td>\n",
       "      <td>191</td>\n",
       "      <td>0</td>\n",
       "    </tr>\n",
       "    <tr>\n",
       "      <td>1</td>\n",
       "      <td>1</td>\n",
       "      <td>2</td>\n",
       "      <td>0.0019</td>\n",
       "      <td>-0.0003</td>\n",
       "      <td>100.0</td>\n",
       "      <td>518.67</td>\n",
       "      <td>642.15</td>\n",
       "      <td>1591.82</td>\n",
       "      <td>1403.14</td>\n",
       "      <td>14.62</td>\n",
       "      <td>...</td>\n",
       "      <td>5.041671</td>\n",
       "      <td>0.008697</td>\n",
       "      <td>0.0</td>\n",
       "      <td>0.000000</td>\n",
       "      <td>0.0</td>\n",
       "      <td>0.0</td>\n",
       "      <td>0.042426</td>\n",
       "      <td>0.003253</td>\n",
       "      <td>190</td>\n",
       "      <td>0</td>\n",
       "    </tr>\n",
       "    <tr>\n",
       "      <td>2</td>\n",
       "      <td>1</td>\n",
       "      <td>3</td>\n",
       "      <td>-0.0043</td>\n",
       "      <td>0.0003</td>\n",
       "      <td>100.0</td>\n",
       "      <td>518.67</td>\n",
       "      <td>642.35</td>\n",
       "      <td>1587.99</td>\n",
       "      <td>1404.20</td>\n",
       "      <td>14.62</td>\n",
       "      <td>...</td>\n",
       "      <td>3.717450</td>\n",
       "      <td>0.007640</td>\n",
       "      <td>0.0</td>\n",
       "      <td>1.154701</td>\n",
       "      <td>0.0</td>\n",
       "      <td>0.0</td>\n",
       "      <td>0.055076</td>\n",
       "      <td>0.044573</td>\n",
       "      <td>189</td>\n",
       "      <td>0</td>\n",
       "    </tr>\n",
       "    <tr>\n",
       "      <td>3</td>\n",
       "      <td>1</td>\n",
       "      <td>4</td>\n",
       "      <td>0.0007</td>\n",
       "      <td>0.0000</td>\n",
       "      <td>100.0</td>\n",
       "      <td>518.67</td>\n",
       "      <td>642.35</td>\n",
       "      <td>1582.79</td>\n",
       "      <td>1401.87</td>\n",
       "      <td>14.62</td>\n",
       "      <td>...</td>\n",
       "      <td>3.050906</td>\n",
       "      <td>0.028117</td>\n",
       "      <td>0.0</td>\n",
       "      <td>1.000000</td>\n",
       "      <td>0.0</td>\n",
       "      <td>0.0</td>\n",
       "      <td>0.076322</td>\n",
       "      <td>0.037977</td>\n",
       "      <td>188</td>\n",
       "      <td>0</td>\n",
       "    </tr>\n",
       "    <tr>\n",
       "      <td>4</td>\n",
       "      <td>1</td>\n",
       "      <td>5</td>\n",
       "      <td>-0.0019</td>\n",
       "      <td>-0.0002</td>\n",
       "      <td>100.0</td>\n",
       "      <td>518.67</td>\n",
       "      <td>642.37</td>\n",
       "      <td>1582.85</td>\n",
       "      <td>1406.22</td>\n",
       "      <td>14.62</td>\n",
       "      <td>...</td>\n",
       "      <td>2.651326</td>\n",
       "      <td>0.025953</td>\n",
       "      <td>0.0</td>\n",
       "      <td>1.095445</td>\n",
       "      <td>0.0</td>\n",
       "      <td>0.0</td>\n",
       "      <td>0.073621</td>\n",
       "      <td>0.033498</td>\n",
       "      <td>187</td>\n",
       "      <td>0</td>\n",
       "    </tr>\n",
       "  </tbody>\n",
       "</table>\n",
       "<p>5 rows × 70 columns</p>\n",
       "</div>"
      ],
      "text/plain": [
       "   asset_id  runtime  engine1  engine2  engine3      t1      t2       t3  \\\n",
       "0         1        1  -0.0007  -0.0004    100.0  518.67  641.82  1589.70   \n",
       "1         1        2   0.0019  -0.0003    100.0  518.67  642.15  1591.82   \n",
       "2         1        3  -0.0043   0.0003    100.0  518.67  642.35  1587.99   \n",
       "3         1        4   0.0007   0.0000    100.0  518.67  642.35  1582.79   \n",
       "4         1        5  -0.0019  -0.0002    100.0  518.67  642.37  1582.85   \n",
       "\n",
       "        t4     t5  ...      sd14      sd15  sd16      sd17  sd18  sd19  \\\n",
       "0  1400.60  14.62  ...  0.000000  0.000000   0.0  0.000000   0.0   0.0   \n",
       "1  1403.14  14.62  ...  5.041671  0.008697   0.0  0.000000   0.0   0.0   \n",
       "2  1404.20  14.62  ...  3.717450  0.007640   0.0  1.154701   0.0   0.0   \n",
       "3  1401.87  14.62  ...  3.050906  0.028117   0.0  1.000000   0.0   0.0   \n",
       "4  1406.22  14.62  ...  2.651326  0.025953   0.0  1.095445   0.0   0.0   \n",
       "\n",
       "       sd20      sd21  rul  failure_label  \n",
       "0  0.000000  0.000000  191              0  \n",
       "1  0.042426  0.003253  190              0  \n",
       "2  0.055076  0.044573  189              0  \n",
       "3  0.076322  0.037977  188              0  \n",
       "4  0.073621  0.033498  187              0  \n",
       "\n",
       "[5 rows x 70 columns]"
      ]
     },
     "execution_count": 49,
     "metadata": {},
     "output_type": "execute_result"
    }
   ],
   "source": [
    "df_train.head()"
   ]
  },
  {
   "cell_type": "code",
   "execution_count": 50,
   "metadata": {},
   "outputs": [],
   "source": [
    "# separa feature de target\n",
    "features = ['engine1', 'engine2', 'engine3', 't1', 't2',\n",
    "       't3', 't4', 't5', 't6', 't7', 't8', 't9', 't10', 't11', 't12', 't13',\n",
    "       't14', 't15', 't16', 't17', 't18', 't19', 't20', 't21', 'av1', 'av2',\n",
    "       'av3', 'av4', 'av5', 'av6', 'av7', 'av8', 'av9', 'av10', 'av11', 'av12',\n",
    "       'av13', 'av14', 'av15', 'av16', 'av17', 'av18', 'av19', 'av20', 'av21',\n",
    "       'sd1', 'sd2', 'sd3', 'sd4', 'sd5', 'sd6', 'sd7', 'sd8', 'sd9', 'sd10',\n",
    "       'sd11', 'sd12', 'sd13', 'sd14', 'sd15', 'sd16', 'sd17', 'sd18', 'sd19',\n",
    "       'sd20', 'sd21']\n",
    "\n",
    "target = 'failure_label'"
   ]
  },
  {
   "cell_type": "code",
   "execution_count": 51,
   "metadata": {},
   "outputs": [],
   "source": [
    "X = df_train[features]\n",
    "y = df_train[target]"
   ]
  },
  {
   "cell_type": "code",
   "execution_count": 52,
   "metadata": {},
   "outputs": [],
   "source": [
    "# separação de treino e teste\n",
    "X_train, X_test, y_train, y_test = train_test_split(\n",
    "     X, y, test_size=0.4, random_state=42)"
   ]
  },
  {
   "cell_type": "markdown",
   "metadata": {},
   "source": [
    " "
   ]
  },
  {
   "cell_type": "markdown",
   "metadata": {},
   "source": [
    " "
   ]
  },
  {
   "cell_type": "markdown",
   "metadata": {},
   "source": [
    "### Regressão logistica\n",
    "\n",
    "Resultados:\n",
    "* Classe 0:\n",
    "    * 98% de f1-score\n",
    "    * 136 de FN\n",
    "* Classe 1:\n",
    "    * 83% f1-score\n",
    "    * 140 FP"
   ]
  },
  {
   "cell_type": "code",
   "execution_count": 53,
   "metadata": {},
   "outputs": [],
   "source": [
    "model_name= 'Logistic Regression'\n",
    "model = LogisticRegression(random_state=42)\n",
    "params = {'C': [.01, 0.1, 1.0, 10], 'solver': ['liblinear', 'lbfgs']}\n",
    "score = 'f1'\n",
    "\n",
    "logistic_regression = ModelFactory(model_name, model, params, score)\n"
   ]
  },
  {
   "cell_type": "code",
   "execution_count": 54,
   "metadata": {},
   "outputs": [
    {
     "name": "stdout",
     "output_type": "stream",
     "text": [
      "Matriz de confusão\n",
      "[[7321  136]\n",
      " [ 140  656]]\n",
      "------------------------------------------\n",
      "              precision    recall  f1-score   support\n",
      "\n",
      "           0       0.98      0.98      0.98      7457\n",
      "           1       0.83      0.82      0.83       796\n",
      "\n",
      "    accuracy                           0.97      8253\n",
      "   macro avg       0.90      0.90      0.90      8253\n",
      "weighted avg       0.97      0.97      0.97      8253\n",
      "\n"
     ]
    },
    {
     "name": "stderr",
     "output_type": "stream",
     "text": [
      "/home/vinicius/.pyenv/versions/3.7.4/lib/python3.7/site-packages/sklearn/linear_model/_logistic.py:940: ConvergenceWarning: lbfgs failed to converge (status=1):\n",
      "STOP: TOTAL NO. of ITERATIONS REACHED LIMIT.\n",
      "\n",
      "Increase the number of iterations (max_iter) or scale the data as shown in:\n",
      "    https://scikit-learn.org/stable/modules/preprocessing.html\n",
      "Please also refer to the documentation for alternative solver options:\n",
      "    https://scikit-learn.org/stable/modules/linear_model.html#logistic-regression\n",
      "  extra_warning_msg=_LOGISTIC_SOLVER_CONVERGENCE_MSG)\n"
     ]
    }
   ],
   "source": [
    "lr_model, lr_pred = logistic_regression.classify(X_train, y_train, X_test, y_test)\n",
    "logistic_regression.metrics(y_test, lr_pred['y_pred'])"
   ]
  },
  {
   "cell_type": "markdown",
   "metadata": {},
   "source": [
    " "
   ]
  },
  {
   "cell_type": "markdown",
   "metadata": {},
   "source": [
    " "
   ]
  },
  {
   "cell_type": "markdown",
   "metadata": {},
   "source": [
    "### Random Forest\n",
    "\n",
    "Resultados:\n",
    "* Classe 0:\n",
    "    * 99% de f1-score\n",
    "    * 71 de FN\n",
    "* Classe 1:\n",
    "    * 89% f1-score\n",
    "    * 98 FP"
   ]
  },
  {
   "cell_type": "code",
   "execution_count": 10,
   "metadata": {},
   "outputs": [],
   "source": [
    "model_name= 'Random Forest'\n",
    "model = RandomForestClassifier(n_estimators=50, random_state=42)\n",
    "params = {'max_depth': [4, 5, 6, 7, 8, 9, 10, 15], 'criterion': ['gini', 'entropy']}\n",
    "score = 'f1'\n",
    "\n",
    "random_forest = ModelFactory(model_name, model, params, score)\n"
   ]
  },
  {
   "cell_type": "code",
   "execution_count": 11,
   "metadata": {},
   "outputs": [
    {
     "name": "stdout",
     "output_type": "stream",
     "text": [
      "Matriz de confusão\n",
      "[[7386   71]\n",
      " [  98  698]]\n",
      "------------------------------------------\n",
      "              precision    recall  f1-score   support\n",
      "\n",
      "           0       0.99      0.99      0.99      7457\n",
      "           1       0.91      0.88      0.89       796\n",
      "\n",
      "    accuracy                           0.98      8253\n",
      "   macro avg       0.95      0.93      0.94      8253\n",
      "weighted avg       0.98      0.98      0.98      8253\n",
      "\n"
     ]
    }
   ],
   "source": [
    "model_random, pred = random_forest.classify(X_train, y_train, X_test, y_test)\n",
    "random_forest.metrics(y_test, pred['y_pred'])"
   ]
  },
  {
   "cell_type": "markdown",
   "metadata": {},
   "source": [
    " "
   ]
  },
  {
   "cell_type": "markdown",
   "metadata": {},
   "source": [
    " "
   ]
  },
  {
   "cell_type": "markdown",
   "metadata": {},
   "source": [
    "### Naive bayes gaussian\n",
    "\n",
    "Resultados:\n",
    "* Classe 0:\n",
    "    * 96% de f1-score\n",
    "    * 600 de FN\n",
    "* Classe 1:\n",
    "    * 73% f1-score\n",
    "    * 2 FP"
   ]
  },
  {
   "cell_type": "code",
   "execution_count": 12,
   "metadata": {},
   "outputs": [],
   "source": [
    "model_name= 'gaussian'\n",
    "model = GaussianNB()\n",
    "params = {}\n",
    "score = 'f1'\n",
    "\n",
    "gaussian = ModelFactory(model_name, model, params, score)\n"
   ]
  },
  {
   "cell_type": "code",
   "execution_count": 13,
   "metadata": {},
   "outputs": [
    {
     "name": "stdout",
     "output_type": "stream",
     "text": [
      "Matriz de confusão\n",
      "[[6857  600]\n",
      " [   2  794]]\n",
      "------------------------------------------\n",
      "              precision    recall  f1-score   support\n",
      "\n",
      "           0       1.00      0.92      0.96      7457\n",
      "           1       0.57      1.00      0.73       796\n",
      "\n",
      "    accuracy                           0.93      8253\n",
      "   macro avg       0.78      0.96      0.84      8253\n",
      "weighted avg       0.96      0.93      0.94      8253\n",
      "\n"
     ]
    }
   ],
   "source": [
    "model_gaussian, pred = gaussian.classify(X_train, y_train, X_test, y_test)\n",
    "gaussian.metrics(y_test, pred['y_pred'])"
   ]
  },
  {
   "cell_type": "markdown",
   "metadata": {},
   "source": [
    " "
   ]
  },
  {
   "cell_type": "markdown",
   "metadata": {},
   "source": [
    " "
   ]
  },
  {
   "cell_type": "markdown",
   "metadata": {},
   "source": [
    "### KNN\n",
    "\n",
    "Resultados:\n",
    "* Classe 0:\n",
    "    * 98% de f1-score\n",
    "    * 103 de FN\n",
    "* Classe 1:\n",
    "    * 83% f1-score\n",
    "    * 154 FP\n",
    "    "
   ]
  },
  {
   "cell_type": "code",
   "execution_count": 14,
   "metadata": {},
   "outputs": [],
   "source": [
    "model_name= 'knn'\n",
    "model = KNeighborsClassifier(n_jobs=-1)\n",
    "params = {'n_neighbors': [9 , 10, 11, 12, 13]}\n",
    "score = 'f1'\n",
    "\n",
    "knn = ModelFactory(model_name, model, params, score)\n"
   ]
  },
  {
   "cell_type": "code",
   "execution_count": 15,
   "metadata": {},
   "outputs": [
    {
     "name": "stdout",
     "output_type": "stream",
     "text": [
      "Matriz de confusão\n",
      "[[7354  103]\n",
      " [ 154  642]]\n",
      "------------------------------------------\n",
      "              precision    recall  f1-score   support\n",
      "\n",
      "           0       0.98      0.99      0.98      7457\n",
      "           1       0.86      0.81      0.83       796\n",
      "\n",
      "    accuracy                           0.97      8253\n",
      "   macro avg       0.92      0.90      0.91      8253\n",
      "weighted avg       0.97      0.97      0.97      8253\n",
      "\n"
     ]
    }
   ],
   "source": [
    "model_knn, pred = knn.classify(X_train, y_train, X_test, y_test)\n",
    "knn.metrics(y_test, pred['y_pred'])"
   ]
  },
  {
   "cell_type": "markdown",
   "metadata": {},
   "source": [
    " "
   ]
  },
  {
   "cell_type": "markdown",
   "metadata": {},
   "source": [
    " "
   ]
  },
  {
   "cell_type": "markdown",
   "metadata": {},
   "source": [
    "## Conslusão\n",
    "\n",
    "Dos modelos usado, dois se destacaram: <b>Random Forest</b> e <b>Naive bayes gaussian</b>\n",
    "\n",
    "* Naive bayes: Boa acertividade (quase 100%) para prever se a máquina irá falhar(VP), porém com muitos casos (600) <br>\n",
    "    de predições de troca de máquina desnecessárias(FN)\n",
    "\n",
    "* Random forest: boa acertividade no VP, porém não tão preciso como o modelo Naive bayes,<br>\n",
    "    porém não tem tantos casos de troca de maquina desnecessárias.\n",
    "\n",
    "### - Com esse caso, seria necessário um stakeholder de negócio dizer qual traz mais valor para empresa: Ter uma melhor garantia (quase 100%) que a linha de produção não irá parar, porém ter maior custo para substituir máquinas (92%). \n",
    "### - Ou ter um garantia um pouco menor (88%) que a linha de produção não irá para, porém ter um custo menor de substituir máquinas (99%)\n",
    "<br>\n",
    "\n",
    "### <b> Para esse caso, irei escolher o Random Forest onde os erros estão mais distribuídos</b>"
   ]
  },
  {
   "cell_type": "code",
   "execution_count": 42,
   "metadata": {},
   "outputs": [],
   "source": [
    "result = pd.DataFrame()"
   ]
  },
  {
   "cell_type": "code",
   "execution_count": 43,
   "metadata": {},
   "outputs": [],
   "source": [
    "result['predicted'] = model_random.predict(df_test[features])"
   ]
  },
  {
   "cell_type": "code",
   "execution_count": 45,
   "metadata": {},
   "outputs": [],
   "source": [
    "result.to_csv(\"classificao_ViniciusZambotti.csv\", index = False)"
   ]
  }
 ],
 "metadata": {
  "kernelspec": {
   "display_name": "Python 3.7.4",
   "language": "python",
   "name": "other-env"
  },
  "language_info": {
   "codemirror_mode": {
    "name": "ipython",
    "version": 3
   },
   "file_extension": ".py",
   "mimetype": "text/x-python",
   "name": "python",
   "nbconvert_exporter": "python",
   "pygments_lexer": "ipython3",
   "version": "3.7.4"
  }
 },
 "nbformat": 4,
 "nbformat_minor": 2
}
