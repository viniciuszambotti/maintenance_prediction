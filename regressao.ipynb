{
 "cells": [
  {
   "cell_type": "code",
   "execution_count": 1,
   "metadata": {},
   "outputs": [],
   "source": [
    "import pandas as pd\n",
    "import numpy as np\n",
    "import pickle\n",
    "\n",
    "from sklearn.model_selection import train_test_split\n",
    "from classes.model_factory import ModelFactory\n",
    "\n",
    "from sklearn.ensemble import RandomForestRegressor\n",
    "from sklearn.tree import DecisionTreeRegressor\n",
    "from sklearn.linear_model import LinearRegression, Lasso\n"
   ]
  },
  {
   "cell_type": "markdown",
   "metadata": {},
   "source": [
    "## Treinamento regressão\n",
    "\n",
    "* A principal métrica que irei olhar é Root Mean Squared Error, que dirá a margem de erro de quantos ciclos o modelo irá possivelmente errar"
   ]
  },
  {
   "cell_type": "code",
   "execution_count": 2,
   "metadata": {},
   "outputs": [],
   "source": [
    "with open(\"data/df_test.pkl\", \"rb\") as p:\n",
    "    df_test = pickle.load(p)"
   ]
  },
  {
   "cell_type": "code",
   "execution_count": 3,
   "metadata": {},
   "outputs": [],
   "source": [
    "with open(\"data/df_train.pkl\", \"rb\") as p:\n",
    "    df_train = pickle.load(p)"
   ]
  },
  {
   "cell_type": "code",
   "execution_count": 4,
   "metadata": {},
   "outputs": [
    {
     "data": {
      "text/html": [
       "<div>\n",
       "<style scoped>\n",
       "    .dataframe tbody tr th:only-of-type {\n",
       "        vertical-align: middle;\n",
       "    }\n",
       "\n",
       "    .dataframe tbody tr th {\n",
       "        vertical-align: top;\n",
       "    }\n",
       "\n",
       "    .dataframe thead th {\n",
       "        text-align: right;\n",
       "    }\n",
       "</style>\n",
       "<table border=\"1\" class=\"dataframe\">\n",
       "  <thead>\n",
       "    <tr style=\"text-align: right;\">\n",
       "      <th></th>\n",
       "      <th>asset_id</th>\n",
       "      <th>runtime</th>\n",
       "      <th>engine1</th>\n",
       "      <th>engine2</th>\n",
       "      <th>engine3</th>\n",
       "      <th>t1</th>\n",
       "      <th>t2</th>\n",
       "      <th>t3</th>\n",
       "      <th>t4</th>\n",
       "      <th>t5</th>\n",
       "      <th>...</th>\n",
       "      <th>sd14</th>\n",
       "      <th>sd15</th>\n",
       "      <th>sd16</th>\n",
       "      <th>sd17</th>\n",
       "      <th>sd18</th>\n",
       "      <th>sd19</th>\n",
       "      <th>sd20</th>\n",
       "      <th>sd21</th>\n",
       "      <th>rul</th>\n",
       "      <th>failure_label</th>\n",
       "    </tr>\n",
       "  </thead>\n",
       "  <tbody>\n",
       "    <tr>\n",
       "      <td>0</td>\n",
       "      <td>1</td>\n",
       "      <td>1</td>\n",
       "      <td>-0.0007</td>\n",
       "      <td>-0.0004</td>\n",
       "      <td>100.0</td>\n",
       "      <td>518.67</td>\n",
       "      <td>641.82</td>\n",
       "      <td>1589.70</td>\n",
       "      <td>1400.60</td>\n",
       "      <td>14.62</td>\n",
       "      <td>...</td>\n",
       "      <td>0.000000</td>\n",
       "      <td>0.000000</td>\n",
       "      <td>0.0</td>\n",
       "      <td>0.000000</td>\n",
       "      <td>0.0</td>\n",
       "      <td>0.0</td>\n",
       "      <td>0.000000</td>\n",
       "      <td>0.000000</td>\n",
       "      <td>191</td>\n",
       "      <td>0</td>\n",
       "    </tr>\n",
       "    <tr>\n",
       "      <td>1</td>\n",
       "      <td>1</td>\n",
       "      <td>2</td>\n",
       "      <td>0.0019</td>\n",
       "      <td>-0.0003</td>\n",
       "      <td>100.0</td>\n",
       "      <td>518.67</td>\n",
       "      <td>642.15</td>\n",
       "      <td>1591.82</td>\n",
       "      <td>1403.14</td>\n",
       "      <td>14.62</td>\n",
       "      <td>...</td>\n",
       "      <td>5.041671</td>\n",
       "      <td>0.008697</td>\n",
       "      <td>0.0</td>\n",
       "      <td>0.000000</td>\n",
       "      <td>0.0</td>\n",
       "      <td>0.0</td>\n",
       "      <td>0.042426</td>\n",
       "      <td>0.003253</td>\n",
       "      <td>190</td>\n",
       "      <td>0</td>\n",
       "    </tr>\n",
       "    <tr>\n",
       "      <td>2</td>\n",
       "      <td>1</td>\n",
       "      <td>3</td>\n",
       "      <td>-0.0043</td>\n",
       "      <td>0.0003</td>\n",
       "      <td>100.0</td>\n",
       "      <td>518.67</td>\n",
       "      <td>642.35</td>\n",
       "      <td>1587.99</td>\n",
       "      <td>1404.20</td>\n",
       "      <td>14.62</td>\n",
       "      <td>...</td>\n",
       "      <td>3.717450</td>\n",
       "      <td>0.007640</td>\n",
       "      <td>0.0</td>\n",
       "      <td>1.154701</td>\n",
       "      <td>0.0</td>\n",
       "      <td>0.0</td>\n",
       "      <td>0.055076</td>\n",
       "      <td>0.044573</td>\n",
       "      <td>189</td>\n",
       "      <td>0</td>\n",
       "    </tr>\n",
       "    <tr>\n",
       "      <td>3</td>\n",
       "      <td>1</td>\n",
       "      <td>4</td>\n",
       "      <td>0.0007</td>\n",
       "      <td>0.0000</td>\n",
       "      <td>100.0</td>\n",
       "      <td>518.67</td>\n",
       "      <td>642.35</td>\n",
       "      <td>1582.79</td>\n",
       "      <td>1401.87</td>\n",
       "      <td>14.62</td>\n",
       "      <td>...</td>\n",
       "      <td>3.050906</td>\n",
       "      <td>0.028117</td>\n",
       "      <td>0.0</td>\n",
       "      <td>1.000000</td>\n",
       "      <td>0.0</td>\n",
       "      <td>0.0</td>\n",
       "      <td>0.076322</td>\n",
       "      <td>0.037977</td>\n",
       "      <td>188</td>\n",
       "      <td>0</td>\n",
       "    </tr>\n",
       "    <tr>\n",
       "      <td>4</td>\n",
       "      <td>1</td>\n",
       "      <td>5</td>\n",
       "      <td>-0.0019</td>\n",
       "      <td>-0.0002</td>\n",
       "      <td>100.0</td>\n",
       "      <td>518.67</td>\n",
       "      <td>642.37</td>\n",
       "      <td>1582.85</td>\n",
       "      <td>1406.22</td>\n",
       "      <td>14.62</td>\n",
       "      <td>...</td>\n",
       "      <td>2.651326</td>\n",
       "      <td>0.025953</td>\n",
       "      <td>0.0</td>\n",
       "      <td>1.095445</td>\n",
       "      <td>0.0</td>\n",
       "      <td>0.0</td>\n",
       "      <td>0.073621</td>\n",
       "      <td>0.033498</td>\n",
       "      <td>187</td>\n",
       "      <td>0</td>\n",
       "    </tr>\n",
       "  </tbody>\n",
       "</table>\n",
       "<p>5 rows × 70 columns</p>\n",
       "</div>"
      ],
      "text/plain": [
       "   asset_id  runtime  engine1  engine2  engine3      t1      t2       t3  \\\n",
       "0         1        1  -0.0007  -0.0004    100.0  518.67  641.82  1589.70   \n",
       "1         1        2   0.0019  -0.0003    100.0  518.67  642.15  1591.82   \n",
       "2         1        3  -0.0043   0.0003    100.0  518.67  642.35  1587.99   \n",
       "3         1        4   0.0007   0.0000    100.0  518.67  642.35  1582.79   \n",
       "4         1        5  -0.0019  -0.0002    100.0  518.67  642.37  1582.85   \n",
       "\n",
       "        t4     t5  ...      sd14      sd15  sd16      sd17  sd18  sd19  \\\n",
       "0  1400.60  14.62  ...  0.000000  0.000000   0.0  0.000000   0.0   0.0   \n",
       "1  1403.14  14.62  ...  5.041671  0.008697   0.0  0.000000   0.0   0.0   \n",
       "2  1404.20  14.62  ...  3.717450  0.007640   0.0  1.154701   0.0   0.0   \n",
       "3  1401.87  14.62  ...  3.050906  0.028117   0.0  1.000000   0.0   0.0   \n",
       "4  1406.22  14.62  ...  2.651326  0.025953   0.0  1.095445   0.0   0.0   \n",
       "\n",
       "       sd20      sd21  rul  failure_label  \n",
       "0  0.000000  0.000000  191              0  \n",
       "1  0.042426  0.003253  190              0  \n",
       "2  0.055076  0.044573  189              0  \n",
       "3  0.076322  0.037977  188              0  \n",
       "4  0.073621  0.033498  187              0  \n",
       "\n",
       "[5 rows x 70 columns]"
      ]
     },
     "execution_count": 4,
     "metadata": {},
     "output_type": "execute_result"
    }
   ],
   "source": [
    "df_train.head()"
   ]
  },
  {
   "cell_type": "markdown",
   "metadata": {},
   "source": [
    "#### usar apenas as features originais deram um resultado melhor"
   ]
  },
  {
   "cell_type": "code",
   "execution_count": 5,
   "metadata": {},
   "outputs": [],
   "source": [
    "# separa feature de target\n",
    "features = ['engine1', 'engine2', 'engine3', 't1', 't2',\n",
    "       't3', 't4', 't5', 't6', 't7', 't8', 't9', 't10', 't11', 't12', 't13',\n",
    "       't14', 't15', 't16', 't17', 't18', 't19', 't20', 't21']\n",
    "\n",
    "target = 'rul'"
   ]
  },
  {
   "cell_type": "code",
   "execution_count": 6,
   "metadata": {},
   "outputs": [],
   "source": [
    "X = df_train[features]\n",
    "y = df_train[target]"
   ]
  },
  {
   "cell_type": "code",
   "execution_count": 7,
   "metadata": {},
   "outputs": [],
   "source": [
    "# separação de treino e teste\n",
    "X_train, X_test, y_train, y_test = train_test_split(\n",
    "     X, y, test_size=0.4, random_state=42)"
   ]
  },
  {
   "cell_type": "markdown",
   "metadata": {},
   "source": [
    " "
   ]
  },
  {
   "cell_type": "markdown",
   "metadata": {},
   "source": [
    " "
   ]
  },
  {
   "cell_type": "markdown",
   "metadata": {},
   "source": [
    "### Regressão Linear"
   ]
  },
  {
   "cell_type": "code",
   "execution_count": 8,
   "metadata": {},
   "outputs": [],
   "source": [
    "model_name= 'Linear Regression'\n",
    "model = LinearRegression()\n",
    "params = {'normalize':[True, False]}\n",
    "score = 'neg_mean_squared_error'\n",
    "\n",
    "linear_reg = ModelFactory(model_name, model, params, score)"
   ]
  },
  {
   "cell_type": "code",
   "execution_count": 9,
   "metadata": {},
   "outputs": [
    {
     "name": "stdout",
     "output_type": "stream",
     "text": [
      "Root Mean Squared Error: 44.42328963273888\n",
      "Mean Absolute Error: 34.017976789626424\n",
      "R^2: 0.5761048701950309\n",
      "Explained Variance: 0.5762385678162177\n"
     ]
    }
   ],
   "source": [
    "model_reg, pred_reg = linear_reg.regression(X_train, y_train, X_test, y_test)\n",
    "linear_reg.regression_metrics(y_test, pred_reg)"
   ]
  },
  {
   "cell_type": "markdown",
   "metadata": {},
   "source": [
    " "
   ]
  },
  {
   "cell_type": "markdown",
   "metadata": {},
   "source": [
    " "
   ]
  },
  {
   "cell_type": "markdown",
   "metadata": {},
   "source": [
    "### Lasso"
   ]
  },
  {
   "cell_type": "code",
   "execution_count": 10,
   "metadata": {},
   "outputs": [],
   "source": [
    "model_name= 'Lasso'\n",
    "model = Lasso()\n",
    "params = {'alpha':[0.001, 0.002, 0.010, 0.050, 0.1, 0.2, 0.5, 1]}\n",
    "score = 'neg_mean_squared_error'\n",
    "\n",
    "lasso = ModelFactory(model_name, model, params, score)"
   ]
  },
  {
   "cell_type": "code",
   "execution_count": 11,
   "metadata": {},
   "outputs": [
    {
     "name": "stdout",
     "output_type": "stream",
     "text": [
      "Root Mean Squared Error: 44.43392106855771\n",
      "Mean Absolute Error: 34.02846936737952\n",
      "R^2: 0.5759019517183553\n",
      "Explained Variance: 0.5760365624450068\n"
     ]
    }
   ],
   "source": [
    "model_lasso, pred_lasso = lasso.regression(X_train, y_train, X_test, y_test)\n",
    "lasso.regression_metrics(y_test, pred_lasso)"
   ]
  },
  {
   "cell_type": "markdown",
   "metadata": {},
   "source": [
    " "
   ]
  },
  {
   "cell_type": "markdown",
   "metadata": {},
   "source": [
    " "
   ]
  },
  {
   "cell_type": "markdown",
   "metadata": {},
   "source": [
    "### Decision Tree Regressor"
   ]
  },
  {
   "cell_type": "code",
   "execution_count": 12,
   "metadata": {},
   "outputs": [],
   "source": [
    "model_name= 'Decision Tree Regressor'\n",
    "model = DecisionTreeRegressor()\n",
    "params = {'max_depth':[5, 7, 10, 15, 20 ,25, 30]}\n",
    "score = 'neg_mean_squared_error'\n",
    "\n",
    "tree = ModelFactory(model_name, model, params, score)"
   ]
  },
  {
   "cell_type": "code",
   "execution_count": 13,
   "metadata": {},
   "outputs": [
    {
     "name": "stdout",
     "output_type": "stream",
     "text": [
      "Root Mean Squared Error: 44.368745509350724\n",
      "Mean Absolute Error: 32.05791018714476\n",
      "R^2: 0.577145171089701\n",
      "Explained Variance: 0.5772040437754056\n"
     ]
    }
   ],
   "source": [
    "model_tree, pred_tree = tree.regression(X_train, y_train, X_test, y_test)\n",
    "tree.regression_metrics(y_test, pred_tree)"
   ]
  },
  {
   "cell_type": "markdown",
   "metadata": {},
   "source": [
    " "
   ]
  },
  {
   "cell_type": "markdown",
   "metadata": {},
   "source": [
    " "
   ]
  },
  {
   "cell_type": "markdown",
   "metadata": {},
   "source": [
    "### Random Forest Regressor"
   ]
  },
  {
   "cell_type": "code",
   "execution_count": 25,
   "metadata": {},
   "outputs": [],
   "source": [
    "model_name= 'Random Forest Regressor'\n",
    "model = RandomForestRegressor()\n",
    "params = {'n_estimators':[100, 150, 200], \"max_features\":[3, 4],\n",
    "         \"max_depth\":[4, 6, 8]}\n",
    "score = 'neg_mean_squared_error'\n",
    "\n",
    "forest = ModelFactory(model_name, model, params, score)"
   ]
  },
  {
   "cell_type": "code",
   "execution_count": 26,
   "metadata": {},
   "outputs": [
    {
     "name": "stdout",
     "output_type": "stream",
     "text": [
      "Root Mean Squared Error: 41.590808191846186\n",
      "Mean Absolute Error: 29.933250029186176\n",
      "R^2: 0.6284376382748325\n",
      "Explained Variance: 0.6285287243160482\n"
     ]
    }
   ],
   "source": [
    "model_forest, pred_forest = forest.regression(X_train, y_train, X_test, y_test)\n",
    "forest.regression_metrics(y_test, pred_forest)"
   ]
  },
  {
   "cell_type": "markdown",
   "metadata": {},
   "source": [
    " "
   ]
  },
  {
   "cell_type": "markdown",
   "metadata": {},
   "source": [
    " "
   ]
  },
  {
   "cell_type": "markdown",
   "metadata": {},
   "source": [
    "#### Random forest apresentou o melhor resultado, com 41 de RMSE"
   ]
  },
  {
   "cell_type": "code",
   "execution_count": 27,
   "metadata": {},
   "outputs": [],
   "source": [
    "result = pd.DataFrame()"
   ]
  },
  {
   "cell_type": "code",
   "execution_count": 29,
   "metadata": {},
   "outputs": [],
   "source": [
    "result['predicted'] = model_forest.predict(df_test[features])"
   ]
  },
  {
   "cell_type": "code",
   "execution_count": 30,
   "metadata": {},
   "outputs": [],
   "source": [
    "result.to_csv(\"regressao_ViniciusZambotti.csv\", index = False)"
   ]
  }
 ],
 "metadata": {
  "kernelspec": {
   "display_name": "Python 3.7.4",
   "language": "python",
   "name": "other-env"
  },
  "language_info": {
   "codemirror_mode": {
    "name": "ipython",
    "version": 3
   },
   "file_extension": ".py",
   "mimetype": "text/x-python",
   "name": "python",
   "nbconvert_exporter": "python",
   "pygments_lexer": "ipython3",
   "version": "3.7.4"
  }
 },
 "nbformat": 4,
 "nbformat_minor": 2
}
